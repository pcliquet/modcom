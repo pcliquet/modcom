{
 "cells": [
  {
   "cell_type": "markdown",
   "id": "a66dc227",
   "metadata": {},
   "source": [
    "# Modelagem e controle"
   ]
  },
  {
   "cell_type": "code",
   "execution_count": 1,
   "id": "3bff6ad8",
   "metadata": {},
   "outputs": [],
   "source": [
    "import math"
   ]
  },
  {
   "cell_type": "markdown",
   "id": "c8c48af7",
   "metadata": {},
   "source": [
    "## Aula 1"
   ]
  },
  {
   "cell_type": "markdown",
   "id": "55eb0906",
   "metadata": {},
   "source": [
    "### O que é modelagem?"
   ]
  },
  {
   "cell_type": "markdown",
   "id": "5fda5175",
   "metadata": {},
   "source": [
    "É o processo de descrição simplificada do comportamento de um determinado sistema (ou planta) utilizando liguagem matematica."
   ]
  },
  {
   "cell_type": "markdown",
   "id": "e7a7b71b",
   "metadata": {},
   "source": [
    "### Por que obter um modelo matemático?"
   ]
  },
  {
   "cell_type": "markdown",
   "id": "d3547b66",
   "metadata": {},
   "source": [
    " - Permite compreeder o comportamento\n",
    " - Permite prever o comportamento\n",
    " - Permite, eventualmente, controlar um determinado fenômeno"
   ]
  },
  {
   "cell_type": "markdown",
   "id": "33cbb849",
   "metadata": {},
   "source": [
    "### Como obter um modelo matemático?"
   ]
  },
  {
   "cell_type": "markdown",
   "id": "e9360a33",
   "metadata": {},
   "source": [
    " - Por meio de leis físicas\n",
    " - Por meio de identificação"
   ]
  },
  {
   "cell_type": "markdown",
   "id": "dc4db759",
   "metadata": {},
   "source": [
    "### O que é controle?"
   ]
  },
  {
   "cell_type": "markdown",
   "id": "32f203fd",
   "metadata": {},
   "source": [
    "É a intervenção em um sistema para atingir um desempenho, ou seja, obter um determinado comportamento."
   ]
  },
  {
   "cell_type": "markdown",
   "id": "0f6003e0",
   "metadata": {},
   "source": [
    "### Temas:"
   ]
  },
  {
   "cell_type": "markdown",
   "id": "d3a93a63",
   "metadata": {},
   "source": [
    " - Modelagem de sistemas dinânmicos no domínio da frequência;\n",
    " - Análise da resposta transitória de sistemas;\n",
    " - Caracterização da estabilidade de sistemas dinâmicos;\n",
    " - Análise da resposta em regime permanente de sistemas realimentados;\n",
    " - Síntese de controladores PID"
   ]
  },
  {
   "cell_type": "markdown",
   "id": "cf88de0e",
   "metadata": {},
   "source": [
    "## Aula 2"
   ]
  },
  {
   "cell_type": "markdown",
   "id": "7f194389",
   "metadata": {},
   "source": [
    "### Elementos Elétricos"
   ]
  },
  {
   "cell_type": "markdown",
   "id": "84db65e7",
   "metadata": {},
   "source": [
    "#### Resistores"
   ]
  },
  {
   "cell_type": "markdown",
   "id": "1ca83090",
   "metadata": {},
   "source": [
    "![resistor](img/resistor_2.png)"
   ]
  },
  {
   "cell_type": "markdown",
   "id": "0aaf2db6",
   "metadata": {},
   "source": [
    " - Dissipador de energia em forma de calor\n",
    " - Feito de materiais condutores\n",
    " - Resistência $(R)$ é a capacidade desse material de resistir fluxo de corrente elétrica\n",
    " \n",
    "$R = \\rho\\cdot\\frac{l}{A}$"
   ]
  },
  {
   "cell_type": "markdown",
   "id": "496a6d9e",
   "metadata": {},
   "source": [
    " - Tensão é diretamente proporcional a corrente:\n",
    " \n",
    " $v(t) = R\\cdot i(t)$\n",
    " \n",
    " $i(t) = \\frac{1}{R}\\cdot v(t)$"
   ]
  },
  {
   "cell_type": "markdown",
   "id": "4b0ac4fe",
   "metadata": {},
   "source": [
    "#### Capacitores"
   ]
  },
  {
   "cell_type": "markdown",
   "id": "09342f5e",
   "metadata": {},
   "source": [
    "![capacitor](img/capacitor_2.png)"
   ]
  },
  {
   "cell_type": "markdown",
   "id": "f749bc03",
   "metadata": {},
   "source": [
    " - Dispositivo elétrico que armazena energia na forma de ampo elétrico\n",
    " - Duas plascas condutoras separadas por um material dielétrico;\n",
    " - Capacitância $(C)$ é a razão entre carga depositada em uma das placas e a difereça de potencial entre as duas placas, medida em farads $(F)$\n",
    " \n",
    " \n",
    " \n",
    " ### $C = \\epsilon\\cdot\\frac{A}{d}$"
   ]
  },
  {
   "cell_type": "markdown",
   "id": "26dababe",
   "metadata": {},
   "source": [
    " - A corrente é diretamente proporcional a taxa de variação da tensão:\n",
    " \n",
    " ### $v(t) = \\frac{1}{C}\\int i(t)dt $\n",
    " \n",
    " ### $i(t)= C \\cdot \\frac{dv}{dt}$"
   ]
  },
  {
   "cell_type": "markdown",
   "id": "97c13118",
   "metadata": {},
   "source": [
    "#### Indutores"
   ]
  },
  {
   "cell_type": "markdown",
   "id": "c98a035f",
   "metadata": {},
   "source": [
    "![indutor](img/indutor_2.png)"
   ]
  },
  {
   "cell_type": "markdown",
   "id": "6e30f5f1",
   "metadata": {},
   "source": [
    " - Dispositivo elétrico que armazena energia na forma de campo magnético\n",
    " - Formado por uma bobina de fio condutor\n",
    " - Indutância $(L)$ é a propriedade que se opõe à mudança do fluxo da corrente através dele, medida em henrys $(H)$\n",
    " \n",
    "### $L = \\frac{N^2\\mu A}{l}$"
   ]
  },
  {
   "cell_type": "markdown",
   "id": "8b11411e",
   "metadata": {},
   "source": [
    "- Tensão é diretamente proporcional a taxa de variação da corrente:\n",
    "\n",
    "### $v(t) = L\\cdot\\frac{di}{dt}$\n",
    "\n",
    "### $i(t) = \\frac{1}{L}\\cdot\\int v(t)dt $"
   ]
  },
  {
   "cell_type": "markdown",
   "id": "4b875419",
   "metadata": {},
   "source": [
    "## Exs"
   ]
  },
  {
   "cell_type": "markdown",
   "id": "83967ef6",
   "metadata": {},
   "source": [
    "(resolver)"
   ]
  },
  {
   "cell_type": "markdown",
   "id": "1310f6be",
   "metadata": {},
   "source": []
  },
  {
   "cell_type": "markdown",
   "id": "8c62c302",
   "metadata": {},
   "source": []
  },
  {
   "cell_type": "markdown",
   "id": "1909810b",
   "metadata": {},
   "source": [
    "## Aula 3"
   ]
  },
  {
   "cell_type": "markdown",
   "id": "bb0891f6",
   "metadata": {},
   "source": [
    "### Objetivos da Aula\n",
    "\n",
    "- Revisar amplificadores operacionais\n",
    "- Revisar modelagem por meio de equações diferenciais"
   ]
  },
  {
   "cell_type": "markdown",
   "id": "46b850af",
   "metadata": {},
   "source": [
    "#### Amp Op\n",
    "\n",
    "Características: \n",
    "\n",
    "- Elevada impedância de entrada $(R_{entrada}>10M\\Omega )$\n",
    "- Por conta da impedância, a corrente na entrada podem ser consideradas iguais a zero\n",
    "- Entretanto, na saída, a impedância é baixa $R_{saída} < 10\\Omega$\n",
    "- Tensão de saída dada por: \n",
    "\n",
    "### $v_{out} = K\\cdot(v^{+}_{in} - v^{-}_{in}) $\n",
    "\n",
    "No qual $K$ é um ganho muito elevado $K>100\\cdot10^{3}$, portanto,\n",
    "\n",
    "## $\\frac{v_{out}}{K} = (v^{+}_{in} - v^{-}_{in})$ \n",
    "\n",
    "e\n",
    "\n",
    "### $v^{+}_{in} \\approx v^{-}_{in}\\to$  Curto virtual"
   ]
  },
  {
   "cell_type": "markdown",
   "id": "c7896777",
   "metadata": {},
   "source": [
    "#### Amp op Inversor"
   ]
  },
  {
   "cell_type": "markdown",
   "id": "cd9e1b04",
   "metadata": {},
   "source": [
    "![amp op](img/amp_op_inv.png)"
   ]
  },
  {
   "cell_type": "markdown",
   "id": "48c87af5",
   "metadata": {},
   "source": [
    "## $v_{out} = -\\frac{R_2}{R_1}\\cdot v_{in}$"
   ]
  },
  {
   "cell_type": "markdown",
   "id": "9446dac2",
   "metadata": {},
   "source": [
    "#### Amp op Não - Inversor"
   ]
  },
  {
   "cell_type": "markdown",
   "id": "a4f3abd7",
   "metadata": {},
   "source": [
    "![amp op](img/amp_op_n_inv.png)"
   ]
  },
  {
   "cell_type": "markdown",
   "id": "f06039b7",
   "metadata": {},
   "source": [
    "## $v_{out} = \\big(1+\\frac{R_2}{R_1}\\big)\\cdot v_{in}$"
   ]
  },
  {
   "cell_type": "markdown",
   "id": "7cd257d4",
   "metadata": {},
   "source": [
    "## Exs de Sistemas de 1ª Ordem"
   ]
  },
  {
   "cell_type": "markdown",
   "id": "95f6c83e",
   "metadata": {},
   "source": [
    "1. Dado um circuito com um amplificador operacional inversor, dois resistores e um\n",
    "capacitor inicialmente carregado com tensão $V_{c0}$ , calcule as tensões em função do\n",
    "tempo no capacitor $V_{c}(t)$ e na saı́da $V_{out}(t)$"
   ]
  },
  {
   "cell_type": "markdown",
   "id": "7148ce72",
   "metadata": {},
   "source": [
    "![ex_1](img/ex_1_3.png)"
   ]
  },
  {
   "cell_type": "markdown",
   "id": "68f39a49",
   "metadata": {},
   "source": [
    "## Sistema de 2ª Ordem"
   ]
  },
  {
   "cell_type": "markdown",
   "id": "943f2e8b",
   "metadata": {},
   "source": [
    "2. Obtenha uma equação diferencial que relacione a entrada $v_{in}(t)$ e a saı́da $v_{out}(t)$ do\n",
    "circuito. Considere $R_1=1\\Omega$, $R_2 = 2\\Omega$, $C_1 = 0,5F$ e $C_2 = 1F$"
   ]
  },
  {
   "cell_type": "markdown",
   "id": "fd2f24e1",
   "metadata": {},
   "source": [
    "![ex_1](img/ex_2_3.png)"
   ]
  },
  {
   "cell_type": "markdown",
   "id": "2b98ef35",
   "metadata": {},
   "source": [
    "## Aula 4"
   ]
  },
  {
   "cell_type": "markdown",
   "id": "6449c436",
   "metadata": {},
   "source": [
    "goth - escritor alemão"
   ]
  },
  {
   "cell_type": "markdown",
   "id": "f898a829",
   "metadata": {},
   "source": []
  },
  {
   "cell_type": "markdown",
   "id": "ba0b7f93",
   "metadata": {},
   "source": [
    "## Aula 5"
   ]
  },
  {
   "cell_type": "markdown",
   "id": "373632a8",
   "metadata": {},
   "source": []
  },
  {
   "cell_type": "markdown",
   "id": "8dfb4ef5",
   "metadata": {},
   "source": []
  },
  {
   "cell_type": "markdown",
   "id": "d37c8b3d",
   "metadata": {},
   "source": [
    "## Aula 6"
   ]
  },
  {
   "cell_type": "markdown",
   "id": "bf354d09",
   "metadata": {},
   "source": []
  },
  {
   "cell_type": "markdown",
   "id": "a7bd3624",
   "metadata": {},
   "source": []
  },
  {
   "cell_type": "markdown",
   "id": "a0ce884a",
   "metadata": {},
   "source": []
  },
  {
   "cell_type": "markdown",
   "id": "31eef121",
   "metadata": {},
   "source": [
    "## Aula 7"
   ]
  },
  {
   "cell_type": "markdown",
   "id": "0cd5acf6",
   "metadata": {},
   "source": []
  },
  {
   "cell_type": "markdown",
   "id": "32a824ba",
   "metadata": {},
   "source": []
  },
  {
   "cell_type": "markdown",
   "id": "2207e821",
   "metadata": {},
   "source": [
    "## Aula 8"
   ]
  },
  {
   "cell_type": "markdown",
   "id": "c6f9720e",
   "metadata": {},
   "source": []
  },
  {
   "cell_type": "markdown",
   "id": "baa24e1d",
   "metadata": {},
   "source": []
  },
  {
   "cell_type": "markdown",
   "id": "22a24721",
   "metadata": {},
   "source": [
    "## Aula 9"
   ]
  },
  {
   "cell_type": "markdown",
   "id": "3bcc82dc",
   "metadata": {},
   "source": []
  },
  {
   "cell_type": "markdown",
   "id": "1d6ba638",
   "metadata": {},
   "source": []
  },
  {
   "cell_type": "markdown",
   "id": "42cfe95f",
   "metadata": {},
   "source": [
    "## Aula 10"
   ]
  },
  {
   "cell_type": "markdown",
   "id": "c7045d58",
   "metadata": {},
   "source": [
    "### Ex.1\n",
    "\n",
    "Obtenha a frequência natural, o fator de amortecimento, o instante de pico, o\n",
    "sobressinal máximo e o tempo de acomodação do sistema representado pelo\n",
    "diagrama de polos e zeros abaixo."
   ]
  },
  {
   "cell_type": "markdown",
   "id": "bb243429",
   "metadata": {},
   "source": [
    "![10](img/aula_10_ex1.png)"
   ]
  },
  {
   "cell_type": "markdown",
   "id": "183bc12e",
   "metadata": {},
   "source": [
    "Fator de amortecimento:\n",
    "\n",
    "$$tg(\\rho) = \\frac{3}{3} = 1 $$\n",
    "\n",
    "$$\\rho =  45° $$\n",
    "\n",
    "$$\\zeta = cos(\\rho) \\to cos(45°) = \\frac{\\sqrt{2}}{2}$$\n",
    "\n",
    "Frequência natural:\n",
    "\n",
    "$$\\sigma_d = \\zeta\\omega_n$$\n",
    "\n",
    "$$\\frac{\\sigma_d}{\\zeta} = \\omega_n $$\n",
    "\n",
    "$$\\frac{3}{\\frac{\\sqrt{2}}{2}} = \\omega_n $$\n",
    "\n",
    "$$ \\omega_n = 4.2426$$\n",
    "\n",
    "Instante de pico:\n",
    "\n",
    "$$T_p = \\frac{\\pi}{\\omega_n\\sqrt{1-\\zeta^2}} $$\n",
    "\n",
    "$$T_p = \\frac{\\pi}{4.242\\cdot \\sqrt{1-(\\frac{\\sqrt{2}}{2})^2}}$$\n",
    "\n",
    "$$T_p = \\frac{\\pi}{4.242 \\cdot \\sqrt{1-0.5}}$$\n",
    "\n",
    "$$T_p = \\frac{\\pi}{4.242\\cdot 0.7071}$$\n",
    "\n",
    "$$T_p =  1.0473 s$$\n",
    "\n",
    "Sobressinal máximo:\n",
    "\n",
    "$$M_p = e^{-\\frac{\\zeta\\pi}{\\sqrt{1-\\zeta^2}}} $$\n",
    "\n",
    "$$M_p = e^{-\\frac{0.7071\\pi}{\\sqrt{1-0.5}}} $$\n",
    "\n",
    "$$M_p = 0.04321$$\n",
    "\n",
    "Tempo de acomodação:\n",
    "\n",
    "$$T_s = \\frac{4}{\\zeta\\omega_n} $$\n",
    "\n",
    "$$T_s = \\frac{4}{0.7071\\cdot 4.242} $$\n",
    "\n",
    "$$T_s = 1.333s $$"
   ]
  },
  {
   "cell_type": "markdown",
   "id": "85549326",
   "metadata": {},
   "source": []
  },
  {
   "cell_type": "markdown",
   "id": "36b6c50f",
   "metadata": {},
   "source": []
  },
  {
   "cell_type": "markdown",
   "id": "2c90fd37",
   "metadata": {},
   "source": [
    "### Calculadora"
   ]
  },
  {
   "cell_type": "markdown",
   "id": "8210dec8",
   "metadata": {},
   "source": []
  },
  {
   "cell_type": "code",
   "execution_count": 2,
   "id": "7a547a67",
   "metadata": {},
   "outputs": [
    {
     "name": "stdout",
     "output_type": "stream",
     "text": [
      "0.04321391826377226\n"
     ]
    }
   ],
   "source": [
    "zeta = math.sqrt(2)/2\n",
    "omegan = 4.242\n",
    "print(math.exp(-(zeta*math.pi/(math.sqrt(0.5)))))"
   ]
  },
  {
   "cell_type": "code",
   "execution_count": 3,
   "id": "9f9bf90f",
   "metadata": {},
   "outputs": [
    {
     "name": "stdout",
     "output_type": "stream",
     "text": [
      "1.0473557138515714\n"
     ]
    }
   ],
   "source": [
    "print(math.pi/((math.sqrt(0.5))*4.242))"
   ]
  },
  {
   "cell_type": "code",
   "execution_count": 4,
   "id": "d8826e7b",
   "metadata": {},
   "outputs": [
    {
     "name": "stdout",
     "output_type": "stream",
     "text": [
      "1.333547501062004\n"
     ]
    }
   ],
   "source": [
    "print(4/(0.7071*4.242))"
   ]
  },
  {
   "cell_type": "markdown",
   "id": "9ca3a270",
   "metadata": {},
   "source": [
    "## Aula 11"
   ]
  },
  {
   "cell_type": "markdown",
   "id": "53b349ff",
   "metadata": {},
   "source": [
    "Objetivos:\n",
    "\n",
    "- Representar sistemas por meio de diagramas de blocos;\n",
    "\n",
    "- Determinar e analisar sistemas com realimentação"
   ]
  },
  {
   "cell_type": "markdown",
   "id": "8b783c50",
   "metadata": {},
   "source": [
    "A função de transferência equivalente de um conjunto de blocos em série é dada pela multiplicação das funções de tranferência de cada bloco:\n",
    "\n",
    "![11](img/aula_11_1.png)"
   ]
  },
  {
   "cell_type": "markdown",
   "id": "602b5b5a",
   "metadata": {},
   "source": [
    "$$U(s) = G_1(s)\\cdot G_2(s)\\cdot G_3(s)...\\cdot G_n(s)$$"
   ]
  },
  {
   "cell_type": "markdown",
   "id": "e11f317a",
   "metadata": {},
   "source": [
    "A função de transferência equivalente de um conjunto de blocos em paralelo é a soma das funções de transferência de cada:\n",
    "\n",
    "![11.2](img/aula_11_2.png)"
   ]
  },
  {
   "cell_type": "markdown",
   "id": "a9063128",
   "metadata": {},
   "source": [
    "$$U(s) = G_1(s) + G_2(s) + G_3(s)+ ... G_n(s)$$"
   ]
  },
  {
   "cell_type": "markdown",
   "id": "e112959d",
   "metadata": {},
   "source": [
    "### Sistemas de malha fechada"
   ]
  },
  {
   "cell_type": "markdown",
   "id": "a7e7d941",
   "metadata": {},
   "source": [
    "![11.3](img/aula_11_3.png)"
   ]
  },
  {
   "cell_type": "markdown",
   "id": "85e71e7f",
   "metadata": {},
   "source": [
    "No qual:\n",
    "\n",
    "$R(s)$: Referência\n",
    "\n",
    "$E(s)$: Erro\n",
    "\n",
    "$C(s)$: Controlador\n",
    "\n",
    "$U(s)$: Sinal de Controle\n",
    "\n",
    "$G(s)$: Planta\n",
    "\n",
    "$Y(s)$: Saída da Planta\n",
    "\n",
    "$H(s)$: Sensor"
   ]
  },
  {
   "cell_type": "markdown",
   "id": "372d325f",
   "metadata": {},
   "source": [
    "#### Ex1\n",
    "\n",
    "Para o sistema abaixo:determine a função de transferência em malha fechada;\n",
    "esboce o diagrama de polos e zeros em malha aberta e em malha fechada; e analise\n",
    "as propriedades e caraterı́sticas de acordo com a ordem e amortecimento."
   ]
  },
  {
   "cell_type": "markdown",
   "id": "f1b7a5ad",
   "metadata": {},
   "source": [
    "![ex1](img/aula_11_ex1.png)"
   ]
  },
  {
   "cell_type": "markdown",
   "id": "ecd8fcca",
   "metadata": {},
   "source": [
    "#### Malha fechada\n",
    "\n",
    "$$G_{mf}(s) = \\frac{Y(s)}{R(s)} $$\n",
    "\n",
    "$$G_{mf}(s) = \\frac{C(s) \\cdot G(s)}{C(s)\\cdot G(s) + 1} $$\n",
    "\n",
    "$$G(s) = U(s) = \\frac{25}{s(s+5)} $$\n",
    "\n",
    "$$C(s) = E(s) = 1 $$\n",
    "\n",
    "$$G_{mf}(s) = \\frac{\\frac{25}{s(s+5)}}{\\frac{25}{s(s+5)}+1} $$\n",
    "\n",
    "$$G_{mf}(s) = \\frac{25}{25+s(s+5)} $$\n",
    "\n",
    "$$G_{mf}(s) = \\frac{25}{s^2 + 5s + 25}$$\n",
    "\n",
    "$$\\omega_n = \\sqrt{25}\\to 5$$\n",
    "\n",
    "$$ 5 = 2\\zeta\\omega_n $$\n",
    "\n",
    "$$\\zeta = \\frac{5}{2\\omega_n} $$\n",
    "\n",
    "$$\\zeta = \\frac{1}{2} \\to 0.5 $$\n",
    "\n",
    "Para encontrar os polos, deve-se encontrar as raízes do denominador, assim:\n",
    "\n",
    "$$s^2 + 5s + 25 $$\n",
    "\n",
    "$$\\Delta = 25 - 4*25 \\to -75$$\n",
    "\n",
    "$$p_{1,2} = \\frac{-5 \\pm \\sqrt{-75}}{2} $$\n",
    "\n",
    "$$p_{1,2} = -2.5 \\pm j4.3 $$\n",
    "\n",
    "#### Resposta:\n",
    "\n",
    "Sistema de segunda ordem, devido ao $s^2$ subamortecido pois o $0<\\zeta<1$.\n"
   ]
  },
  {
   "cell_type": "markdown",
   "id": "8ef0183f",
   "metadata": {},
   "source": [
    "#### Malha aberta\n",
    "\n",
    "$$G_{ma}(s) = \\frac{25}{s(s+5)} $$\n",
    "\n",
    "Para encontrar os polos, deve-se encontrar as raízes do denominador, assim:\n",
    "\n",
    "$$p_1 = 0 $$\n",
    "\n",
    "$$p_2 = 5 $$\n",
    "\n",
    "#### Resposta\n",
    "\n",
    "Sistema de segunda ordem, devido ao $s^2$ superamortecido, pois só existe raízes reais."
   ]
  },
  {
   "cell_type": "markdown",
   "id": "78b7d590",
   "metadata": {},
   "source": [
    "### Ex. 2"
   ]
  },
  {
   "cell_type": "markdown",
   "id": "bd5297f5",
   "metadata": {},
   "source": [
    "Para o sistema do exercı́cio anterior, determine o ganho K do controlador para que\n",
    "a resposta ao degrau em malha fechada seja subamortecida e tenha sobressinal\n",
    "máximo de 10 %."
   ]
  },
  {
   "cell_type": "markdown",
   "id": "4c048821",
   "metadata": {},
   "source": [
    "$$G_{mf}(s) = \\frac{\\frac{25K}{s(s+5)}}{\\frac{25K}{s(s+5)}+1} $$\n",
    "\n",
    "$$G_{mf}(s) = \\frac{25K}{s^2 + 5s + 25K}$$\n",
    "\n",
    "$$\\zeta = \\sqrt{\\frac{ln^2(0.1)}{\\pi^2 +ln^2(0.1)}}$$\n",
    "\n",
    "$$\\zeta = \\sqrt{\\frac{5.301}{\\pi^2 +5.301}}$$\n",
    "\n",
    "$$\\zeta = 0.5911$$\n",
    "\n",
    "Agora Encontrar o valor de $w_n$ e de $K$:\n",
    "\n",
    "$$\\omega_n = \\sqrt{25K} \\to 5\\sqrt{K}$$\n",
    "\n",
    "$$2\\zeta\\omega_n = 5 $$\n",
    "\n",
    "$$ \\sqrt{K} = \\frac{5}{2\\cdot 0.591\\cdot 5} $$\n",
    "\n",
    "$$K = 0.856^2 \\to 0.7157$$"
   ]
  },
  {
   "cell_type": "code",
   "execution_count": 5,
   "id": "b1df200c",
   "metadata": {},
   "outputs": [
    {
     "name": "stdout",
     "output_type": "stream",
     "text": [
      "0.5911224592350196\n"
     ]
    }
   ],
   "source": [
    "print(math.sqrt(5.301/(math.pi**2 + 5.301)))"
   ]
  },
  {
   "cell_type": "code",
   "execution_count": 6,
   "id": "1980b708",
   "metadata": {},
   "outputs": [
    {
     "name": "stdout",
     "output_type": "stream",
     "text": [
      "0.715756081779427\n"
     ]
    }
   ],
   "source": [
    "print(1/(4*(0.591)**2))"
   ]
  },
  {
   "cell_type": "markdown",
   "id": "2102cbd1",
   "metadata": {},
   "source": [
    "## Aula 12"
   ]
  },
  {
   "cell_type": "markdown",
   "id": "9ab7df50",
   "metadata": {},
   "source": [
    "# Não encontrada"
   ]
  },
  {
   "cell_type": "markdown",
   "id": "bf39ea66",
   "metadata": {},
   "source": []
  },
  {
   "cell_type": "markdown",
   "id": "7a61e112",
   "metadata": {},
   "source": [
    "## Aula 13"
   ]
  },
  {
   "cell_type": "markdown",
   "id": "54654f25",
   "metadata": {},
   "source": [
    "#### Objetivos\n",
    "\n",
    "- Revisar elementos mecânicos de translação\n",
    "\n",
    "- Revisar leis de Newton\n",
    "\n",
    "- Determinar e analisar modelos de sistemas mecânicos de translação"
   ]
  },
  {
   "cell_type": "markdown",
   "id": "b133643e",
   "metadata": {},
   "source": [
    "Mola \n",
    "- é um dispositivo mecânico que armazena energia potencial elástica.\n",
    "\n",
    "- A relação entre deformação(deslocamento) e força aplicada é determinada pela lei de Hooke:\n",
    "\n",
    "$$f_k(t) = kx(t) $$\n",
    "\n",
    "$$f_k(t) = k(x_2(t) - x_1(t)) $$\n",
    "\n",
    "Em que:\n",
    "\n",
    "$f_k(t)$ é a força apliacada na mola (N);\n",
    "\n",
    "$k$ é a constante elástica da mola (N/m);\n",
    "\n",
    "$x(t), x_1(t)$ e $x_2(t)$ são os deslocamentos(m)."
   ]
  },
  {
   "cell_type": "markdown",
   "id": "32747746",
   "metadata": {},
   "source": [
    "![mola](img/aula_13_mola.png)"
   ]
  },
  {
   "cell_type": "markdown",
   "id": "9de5eaec",
   "metadata": {},
   "source": [
    "### Primeira lei de Newton\n",
    "\n",
    "Um corpo tende a manter seu estado, de repouso ou movimento, a menos que seja forçado a mudar-lo por forças aplicadas sobre ele.\n",
    "\n",
    "$$\\vec{R} != 0 $$\n",
    "\n",
    "### Segunda lei de Newton\n",
    "\n",
    "A mudança de movimento é proporcional à força motora exercida, e tem sentido na direção da força aplicada.\n",
    "\n",
    "$$\\vec{F} = m\\cdot \\vec{a} $$\n",
    "\n",
    "### Terceira lei de Newton\n",
    "\n",
    "Toda ação tem uma reação, só que no sentido oposto a ele.\n",
    "\n",
    "$$\\vec{P} = \\vec{N}\\to \\vec{N} - \\vec{P} = 0 $$"
   ]
  },
  {
   "cell_type": "markdown",
   "id": "09ee6f2d",
   "metadata": {},
   "source": [
    "## Ex1\n",
    "\n",
    "Para o sistema mecânico abaixo, considere que a entrada é a força aplicada $f(t)$ e a saída é a posição $x(t)$. Determine:\n",
    "\n",
    "![ex1](img/aula_13_ex1.png)"
   ]
  },
  {
   "cell_type": "markdown",
   "id": "c546fd3f",
   "metadata": {},
   "source": [
    "A)  a equação diferencial e a função de transferência desconsiderando a mola e o amortecedor\n",
    "\n",
    "\n",
    "Sem mola\n",
    "\n",
    "$$f(t) = m\\cdot x''(t) $$\n",
    "\n",
    "Passando para o dominio da frequência:\n",
    "\n",
    "$$F(s) = m\\cdot s^2 \\cdot X(s) $$\n",
    "\n",
    "$$\\frac{X(s)}{F(s)} = \\frac{1}{s^2\\cdot m}$$\n",
    "\n",
    "Encontra os polos (raízes do denominador)\n",
    "\n",
    "$$s^2\\cdot m = 0$$\n",
    "\n",
    "$$p_1 = +0$$\n",
    "\n",
    "$$p_2 = -0 $$\n",
    "\n",
    "Polos repetidos em 0"
   ]
  },
  {
   "cell_type": "markdown",
   "id": "12a0ff3d",
   "metadata": {},
   "source": [
    "B) a equaçãi diferencial e a função de transferência considerando a mola e o amortecedor\n",
    "\n",
    "$$f(t) - b\\cdot x'(t) - k\\cdot x(t) = x''(t)\\cdot m$$\n",
    "\n",
    "Passando para o dominio da frequência\n",
    "\n",
    "$$F(s) - sbX(s) - kX(s) = s^2X(s)m $$\n",
    "\n",
    "$$F(s) +X(s)\\cdot(-sb - k) = X(s)s^2m $$\n",
    "\n",
    "$$F(s) = X(s) \\cdot (ms^2+sb+k) $$\n",
    "\n",
    "$$\\frac{X(s)}{F(s)} = \\frac{1}{ms^2 +bs + k}$$\n",
    "\n",
    "Função na frequência natural:\n",
    "\n",
    "$$\\frac{X(s)}{F(s)} = \\frac{\\frac{1}{m}}{s^2 + \\frac{bs}{m}+\\frac{k}{m}} $$"
   ]
  },
  {
   "cell_type": "markdown",
   "id": "beee0c58",
   "metadata": {},
   "source": [
    "Encontrando $\\omega_n$ e $\\zeta$ da função de transferência a cima:\n",
    "\n",
    "$$\\omega_n^2 = \\frac{k}{m} \\to \\sqrt{\\frac{k}{m}}$$\n",
    "\n",
    "$$2\\zeta\\omega_n = \\frac{bs}{m} $$\n",
    "\n",
    "$$\\zeta = \\frac{\\frac{bs}{m}}{2\\sqrt{\\frac{k}{m}}} $$\n",
    "\n",
    "$$\\zeta = \\frac{bs}{2\\sqrt{\\frac{k\\cdot m^2}{m}}} $$\n",
    "\n",
    "$$\\zeta = \\frac{bs}{2\\sqrt{k\\cdot m}}$$"
   ]
  },
  {
   "cell_type": "markdown",
   "id": "7f24777f",
   "metadata": {},
   "source": [
    "## Ex.2\n",
    "\n",
    "Para o sistema mecânico abaixo, consiedere que a entrada é a posição $y(t)$ e a saída é a posição $x(t)$. Determina a equação diferencial e a função de transferência.\n",
    "\n",
    "![ex2](img/aula_13_ex2.png)"
   ]
  },
  {
   "cell_type": "markdown",
   "id": "565ccd3d",
   "metadata": {},
   "source": [
    " $$G(s) = \\frac{X(s)}{Y(s)} $$"
   ]
  },
  {
   "cell_type": "markdown",
   "id": "52140ea4",
   "metadata": {},
   "source": [
    "$$f_k(t) = k(y(t) - x(t)) $$\n",
    "\n",
    "$$f_b(t) = b(y'(t) - x'(t)) $$\n",
    "\n",
    "$$m\\cdot x''(t) = f_k(t) + f_b(t) $$\n",
    "\n",
    "$$m\\cdot x''(t) = k(y(t) - x(t)) + b(y'(t) - x'(t)) $$\n",
    "\n",
    "Passando para o dominio s:\n",
    "\n",
    "$$m\\cdot s^2X(s) = kY(s) - kX(s)+ bsY(s) - bsX(s) $$\n",
    "\n",
    "$$m\\cdot s^2X(s) = Y(s)(k+bs) -X(s)(k+bs)$$\n"
   ]
  },
  {
   "cell_type": "markdown",
   "id": "66f5df56",
   "metadata": {},
   "source": [
    "$$\\frac{X(s)}{Y(s)} = \\frac{k+bs}{s^2m + bs+ k} $$\n",
    "\n",
    "$$\\frac{X(s)}{Y(s)} = \\frac{\\frac{k+bs}{m}}{s^2 + \\frac{bs}{m}+ \\frac{k}{m}} $$\n"
   ]
  },
  {
   "cell_type": "markdown",
   "id": "e78e7a4b",
   "metadata": {},
   "source": [
    "## Ex.3"
   ]
  },
  {
   "cell_type": "markdown",
   "id": "0778f426",
   "metadata": {},
   "source": [
    "![3](img/aula_13_ex3.png)"
   ]
  },
  {
   "cell_type": "markdown",
   "id": "955d1917",
   "metadata": {},
   "source": [
    "Corpo 1:\n",
    "\n",
    "$$x''(t)\\cdot m_1 = f() $$"
   ]
  },
  {
   "cell_type": "markdown",
   "id": "f311d6d4",
   "metadata": {},
   "source": []
  },
  {
   "cell_type": "markdown",
   "id": "c5b30566",
   "metadata": {},
   "source": []
  },
  {
   "cell_type": "markdown",
   "id": "5ccf85aa",
   "metadata": {},
   "source": []
  },
  {
   "cell_type": "markdown",
   "id": "a16b2914",
   "metadata": {},
   "source": [
    "## Aula 14"
   ]
  },
  {
   "cell_type": "markdown",
   "id": "cdd684da",
   "metadata": {},
   "source": []
  },
  {
   "cell_type": "markdown",
   "id": "ff099e5a",
   "metadata": {},
   "source": []
  },
  {
   "cell_type": "markdown",
   "id": "29436500",
   "metadata": {},
   "source": [
    "## Aula 15"
   ]
  },
  {
   "cell_type": "markdown",
   "id": "ecab2ef1",
   "metadata": {},
   "source": []
  },
  {
   "cell_type": "markdown",
   "id": "5dbb9513",
   "metadata": {},
   "source": []
  },
  {
   "cell_type": "markdown",
   "id": "b0e099a2",
   "metadata": {},
   "source": [
    "## Aula 16"
   ]
  },
  {
   "cell_type": "markdown",
   "id": "2038c91a",
   "metadata": {},
   "source": []
  },
  {
   "cell_type": "markdown",
   "id": "5b7485fe",
   "metadata": {},
   "source": [
    "## Aula 18"
   ]
  },
  {
   "cell_type": "markdown",
   "id": "ed303f9e",
   "metadata": {},
   "source": [
    "### Regime Permanente"
   ]
  },
  {
   "cell_type": "markdown",
   "id": "67f2b46b",
   "metadata": {},
   "source": [
    "$t\\to \\infty$ em que $t>T_s$\n",
    "\n",
    "Malha fechada: \n",
    "\n",
    "### $G_{mf}(s) = \\frac{Y(s)}{R(s)}$\n",
    "\n",
    "\n",
    "### $Y(s) = G_{mf}\\cdot R(s)$\n",
    "\n"
   ]
  },
  {
   "cell_type": "markdown",
   "id": "20847e38",
   "metadata": {},
   "source": [
    "Malha Aberta:\n",
    "\n",
    "### $G_{ma}(s) = \\frac{Y(s)}{U(s)}$\n",
    "\n",
    "#### $Y(s) = G_{ma}\\cdot X(s)$\n",
    "\n",
    "Expansão em Frações Parciais\n",
    "\n",
    "#### $\\mathcal{L}^{-1}\\left\\{ Y(s) \\right\\} = y(t)$\n",
    "\n",
    "#### $lim_{t\\to\\infty}y(t)=y(\\infty)$"
   ]
  },
  {
   "cell_type": "markdown",
   "id": "0ffd7e20",
   "metadata": {},
   "source": [
    "### Teorena do valor final"
   ]
  },
  {
   "cell_type": "markdown",
   "id": "8bdde45a",
   "metadata": {},
   "source": [
    "### $f(\\infty) = lim_{t\\to\\infty} f(t) = \\lim\\limits_{s \\to 0} sF(s)$\n",
    "\n",
    "### $\\mathcal{L}\\left\\{ \\frac{df}{dt}(t) \\right\\} = \\lim\\limits_{s \\to 0}\\left\\{ \\int \\frac{df}{dt}(t)dt \\right\\} = \\lim\\limits_{s \\to 0}\\left\\{sF(s)-f(0)\\right\\}$\n",
    "\n",
    "### $\\int \\frac{df}{dt}(t)dt = \\lim\\limits_{s \\to 0}\\left\\{sF(s)\\right\\}-f(0)$\n",
    "\n"
   ]
  },
  {
   "cell_type": "markdown",
   "id": "e2384d79",
   "metadata": {},
   "source": [
    "### $G_{mf}(s)=\\frac{17.4k_p}{s+0.8+17.4k_p}$\n",
    "\n",
    "### $G_{mf}(s) = \\frac{\\Omega_{m}(s)}{\\Omega_{ref}(s)}$\n",
    "\n",
    "### $\\Omega_{ref}(s) = \\frac{320}{s}$\n",
    "\n",
    "### $\\omega_{m}(\\infty)$ ?\n",
    "\n",
    "### $\\Omega_{m}(s) = G_{mf}(s)\\cdot\\Omega_{ref}(s)$\n",
    "\n",
    "### $G_{mf}(s)=\\frac{17,4k_p}{s+0.8+17,4k_p}\\cdot\\frac{320}{s}$\n",
    "\n",
    "### $\\omega_{m}(\\infty) = \\lim\\limits_{s \\to 0}\\left\\{s\\cdot\\Omega_{m}(s)\\right\\}$\n",
    "\n",
    "### $\\omega_{m}(\\infty) = \\lim\\limits_{s \\to 0} \\left\\{s\\frac{17,4k_p}{s+0.8+17,4k_p}\\cdot\\frac{320}{s}\\right\\}$\n",
    "\n",
    "### $\\omega_{m}(\\infty) = \\lim\\limits_{s \\to 0} \\left\\{ \\frac{17,4k_p}{s+0.8+17,4k_p}\\cdot320\\right\\}$\n",
    "\n",
    "\n",
    "\n",
    "### $\\omega_{m}(\\infty) = \\lim\\limits_{s \\to 0}\\left\\{ \\frac{5568\\cdot k_p}{s+0.8+17.4\\cdot k_p}\\right\\}$\n",
    "\n",
    "### $\\omega_{m}(\\infty) =  \\frac{5568\\cdot k_p}{0.8+17.4\\cdot k_p}$\n",
    "\n",
    "#### Resposta: \n",
    "O valor final de $\\omega_{m}$ será constante e proporcional ao $k_P$. Quanto maior o $k_P$ altera o $\\tau$, ou seja, o cotovelo gráfico(tempo para chegar o máximo valor) é mais curto."
   ]
  },
  {
   "cell_type": "markdown",
   "id": "4e14f606",
   "metadata": {},
   "source": [
    "### Erro em Regime Permanente"
   ]
  },
  {
   "cell_type": "markdown",
   "id": "fc59bbcd",
   "metadata": {},
   "source": [
    " - Sistema de malha fechada:"
   ]
  },
  {
   "cell_type": "markdown",
   "id": "952e7577",
   "metadata": {},
   "source": [
    "![malha_fechada](img/malhaf_18.png)"
   ]
  },
  {
   "cell_type": "markdown",
   "id": "e0fc6142",
   "metadata": {},
   "source": [
    "### $ e_{ss} = \\lim\\limits_{t \\to \\infty} e(t) = e(\\infty) = \\lim\\limits_{s \\to 0}\\left\\{sE(s)\\right\\}$\n",
    "\n",
    "### $e_{ss} = \\lim\\limits_{s \\to 0}\\left\\{\\frac{sR(s)}{1+G_{ma}(s)}\\right\\} = \\lim\\limits_{s \\to 0}\\left\\{sR(s)(1-G_{mf}(s))\\right\\}$"
   ]
  },
  {
   "cell_type": "markdown",
   "id": "f5c81aa8",
   "metadata": {},
   "source": [
    " $G_{ma}(s) = C(s)\\cdot U(s)$ \n",
    " \n",
    "$e_{ss}$ é o erro estado estacionário\n",
    " - Definição:\n",
    " \n",
    "    $E(s) = R(s) - Y(s)$     $(i)$\n",
    "    \n",
    "    $Y(s) = G_{ma}(s)\\cdot E(s)$     $(ii)$\n",
    "    \n",
    "    $Y(s) = G_{mf}(s)\\cdot R(s)$     $(iii)$\n",
    "\n"
   ]
  },
  {
   "cell_type": "markdown",
   "id": "c5f67ee0",
   "metadata": {},
   "source": [
    "- Eq $(ii)$ em $(i):$\n",
    "\n",
    " $E(s) = R(s) - G_{ma}(s)\\cdot E(s)$\n",
    "\n",
    "$E(s)\\cdot (1+G_{ma}(s) = R(s)$\n",
    "\n",
    "### $E(s) = \\frac{R(s)}{1+G_{ma}(s)}$\n",
    "\n",
    "### $e_{ss} = \\lim\\limits_{s \\to 0}\\left\\{\\frac{sR(s)}{1+G_{ma}(s)}\\right\\}$\n",
    "\n",
    "- Eq $(iii)$ em $(i):$\n",
    "\n",
    "$E(s) = R(s) - G_{mf}(s)$"
   ]
  },
  {
   "cell_type": "markdown",
   "id": "1b5c3f69",
   "metadata": {},
   "source": [
    "### Ex.2"
   ]
  },
  {
   "cell_type": "markdown",
   "id": "9f95f0ed",
   "metadata": {},
   "source": [
    "### $G_{ma}(s) = \\frac{17,4\\cdot k_p}{s+0,8}$"
   ]
  },
  {
   "cell_type": "markdown",
   "id": "413547eb",
   "metadata": {},
   "source": [
    "### $R(s) = \\frac{320}{s}$\n"
   ]
  },
  {
   "cell_type": "markdown",
   "id": "760cd038",
   "metadata": {},
   "source": [
    "\n",
    "## $e_{ss} = \\lim\\limits_{s \\to 0} \\left\\{\\frac{\\frac{s\\cdot 320}{s}}{1+\\frac{17,4k_p}{s+0,8}}\\right\\}$\n"
   ]
  },
  {
   "cell_type": "markdown",
   "id": "855818e4",
   "metadata": {},
   "source": [
    "\n",
    "### $e_{ss} = \\frac{256}{0,8+17,4\\cdot k_p}$"
   ]
  },
  {
   "cell_type": "markdown",
   "id": "bee0f078",
   "metadata": {},
   "source": [
    "#### Conclusão:\n",
    "\n",
    "Para esse sistema, para que não haja erro de estado estacionário é preciso que $k_p\\to\\infty$, o que é imposspivel!"
   ]
  },
  {
   "cell_type": "markdown",
   "id": "a3f1ae26",
   "metadata": {},
   "source": [
    "## Generalização do Erro em Regime Permanente"
   ]
  },
  {
   "cell_type": "markdown",
   "id": "2ca96339",
   "metadata": {},
   "source": [
    "### - Degrau: \n",
    " \n",
    " ### $R(s) = \\frac{A_{rea}}{s}$\n",
    " \n",
    " ## $e_{ss} = \\lim\\limits_{s \\to 0} \\frac{s\\cdot\\frac{A}{s}}{1+G_{ma}(s)}$\n",
    " \n",
    " ## $e_{ss} = \\lim\\limits_{s \\to 0} \\frac{A}{1+G_{ma}(s)}$\n",
    " \n",
    " ## $e_{ss} =  \\frac{A}{1+\\lim\\limits_{s \\to 0}G_{ma}(s)}$\n",
    "\n",
    "### $\\lim\\limits_{s \\to 0}G_{ma}(s) = C_p$\n",
    " \n",
    " ## $e_{ss} =  \\frac{A}{1+C_p} \\to degrau$"
   ]
  },
  {
   "cell_type": "markdown",
   "id": "a39c38c2",
   "metadata": {},
   "source": [
    "### - Rampa:\n",
    " \n",
    " ### $R(s) = \\frac{A}{s^2}$\n",
    " \n",
    " ### $e_{ss} = \\lim\\limits_{s \\to 0} \\frac{s\\cdot\\frac{A}{s^{2}}\\cdot s}{1s+G_{ma}(s)s}$\n",
    " \n",
    " ### $e_{ss} = \\lim\\limits_{s \\to 0} \\frac{A}{s+G_{ma}(s)s}$\n",
    " \n",
    " ## $e_{ss} =  \\frac{A}{\\lim\\limits_{s \\to 0}s\\cdot G_{ma}(s)}$\n",
    " \n",
    " #### $\\lim\\limits_{s \\to 0}s\\cdot G_{ma}(s)= C_V$\n",
    " \n",
    " ### $e_{ss} =  \\frac{A}{s\\cdot C_V}\\to Rampa$"
   ]
  },
  {
   "cell_type": "markdown",
   "id": "ab48d8ba",
   "metadata": {},
   "source": [
    "### - Parabola:\n",
    " \n",
    " ### $R(s) = \\frac{A}{s^{3}}$\n",
    " \n",
    " ## $e_{ss} = \\lim\\limits_{s \\to 0} \\frac{s\\cdot \\frac{A}{s^{3}}\\cdot s^{2}}{s^{2}+G_{ma}(s)s^{2}}$\n",
    " \n",
    " ## $e_{ss} =  \\frac{A}{\\lim\\limits_{s \\to 0}s^{2}\\cdot G_{ma}(s)}$\n",
    " \n",
    " ### $\\lim\\limits_{s \\to 0}s^{2}\\cdot G_{ma}(s) = C_A$\n",
    " \n",
    "  ### $e_{ss} =  \\frac{A}{s^{2}\\cdot C_A}\\to Parabola$"
   ]
  },
  {
   "cell_type": "markdown",
   "id": "684a0a60",
   "metadata": {},
   "source": [
    "## Aula 19"
   ]
  },
  {
   "cell_type": "markdown",
   "id": "8f621520",
   "metadata": {},
   "source": [
    " - Compreender a relação entre erro em regime permanente e entradas conhecidas\n",
    " - Compreender a relação entre erro em regime permanente e o tipo de sistema"
   ]
  },
  {
   "cell_type": "markdown",
   "id": "d7bef0e5",
   "metadata": {},
   "source": [
    "### Ex.1"
   ]
  },
  {
   "cell_type": "markdown",
   "id": "afea5ba1",
   "metadata": {},
   "source": [
    "![malha_fechada](img/malhaf_18.png)"
   ]
  },
  {
   "cell_type": "markdown",
   "id": "0e6e2576",
   "metadata": {},
   "source": [
    "1. Determine as constantes de erro estático e os erros em regime permanente para a malha de velocidade do motor. Considere K p = 1 e os sinais de referência unitários."
   ]
  },
  {
   "cell_type": "markdown",
   "id": "3ba523df",
   "metadata": {},
   "source": [
    "## $G(s) = \\frac{17,4}{s+0,8}$"
   ]
  },
  {
   "cell_type": "markdown",
   "id": "ecc565ac",
   "metadata": {},
   "source": [
    "### $k_p=1$\n",
    "\n",
    "### $A=1$"
   ]
  },
  {
   "cell_type": "markdown",
   "id": "ddcb5bb9",
   "metadata": {},
   "source": [
    "#### Constante degrau"
   ]
  },
  {
   "cell_type": "markdown",
   "id": "b50a3f06",
   "metadata": {},
   "source": [
    "## $C_P = \\lim\\limits_{s \\to 0} G_{ma}(s)$\n",
    "## $C_P = \\lim\\limits_{s \\to 0}\\frac{17,4}{s+0,8}$\n",
    "\n",
    "## $C_P = \\lim\\limits_{s \\to 0}\\frac{17,4}{0,8}$\n",
    "\n",
    "## $C_P = 21,75$"
   ]
  },
  {
   "cell_type": "markdown",
   "id": "1bcf16ef",
   "metadata": {},
   "source": [
    "#### O erro do sistema"
   ]
  },
  {
   "cell_type": "markdown",
   "id": "b7b0adf5",
   "metadata": {},
   "source": [
    "## $e_{ss}= \\frac{A}{1+C_P}$\n",
    "\n",
    "## $e_{ss}= \\frac{1}{22,75}$\n",
    "\n",
    "### $e_{ss}= 0,043 $"
   ]
  },
  {
   "cell_type": "markdown",
   "id": "d8759a29",
   "metadata": {},
   "source": [
    "#### Constante de Rampa"
   ]
  },
  {
   "cell_type": "markdown",
   "id": "14024b7b",
   "metadata": {},
   "source": [
    "## $C_V = \\lim\\limits_{s \\to 0}s\\cdot G_{ma}(s)$\n",
    "\n",
    "## $C_V = \\lim\\limits_{s \\to 0}s\\cdot \\frac{17,4}{s+0,8})$\n",
    "\n",
    "## $C_V = \\lim\\limits_{s \\to 0}s\\cdot \\frac{17,4}{s+0,8}\\to 0$\n",
    "\n",
    "### $e_{ss} = \\frac{A}{0}\\to \\infty$"
   ]
  },
  {
   "cell_type": "markdown",
   "id": "7ef16fb0",
   "metadata": {},
   "source": [
    "#### Constante de Parábola"
   ]
  },
  {
   "cell_type": "markdown",
   "id": "a47bbaad",
   "metadata": {},
   "source": [
    "## $C_a = \\lim\\limits_{s \\to 0}s^{2}\\cdot G_{ma}(s)$\n",
    "\n",
    "## $C_a = \\lim\\limits_{s \\to 0}s^{2}\\cdot \\frac{17,4}{s+0,8}\\to 0$\n",
    "\n",
    "## $e_{ss} = \\frac{A}{C_a}\\to \\infty$"
   ]
  },
  {
   "cell_type": "markdown",
   "id": "81c17bed",
   "metadata": {},
   "source": [
    "#### Um erro infinito significa que cada vez mais que o tempo passa, o erro fica mais distânte do estável"
   ]
  },
  {
   "cell_type": "markdown",
   "id": "a30109f2",
   "metadata": {},
   "source": [
    "2. Determine as constantes de erro estático e os erros em regime permanente para a malha\n",
    "de posição do motor. Considere K p = 1 e os sinais de referência unitários.\n",
    "\n",
    "## $G(s) = \\frac{17,4}{s(s+0,8)}$"
   ]
  },
  {
   "cell_type": "markdown",
   "id": "3be42caf",
   "metadata": {},
   "source": [
    "#### Constante de degrau"
   ]
  },
  {
   "cell_type": "markdown",
   "id": "f91708c9",
   "metadata": {},
   "source": [
    "### $C_P = \\lim\\limits_{s \\to 0} G_{ma}(s)$\n",
    "\n",
    "### $C_P = \\lim\\limits_{s \\to 0}\\frac{17,4}{s(s+0,8)}\\to \\infty$\n",
    "\n",
    "## $e_{ss} = \\frac{A}{1+C_P}\\to 0$\n",
    "\n"
   ]
  },
  {
   "cell_type": "markdown",
   "id": "5224d225",
   "metadata": {},
   "source": [
    "#### Constante de Rampa\n",
    "\n",
    "### $C_V = \\lim\\limits_{s \\to 0}s\\cdot G_{ma}(s)$\n",
    "\n",
    "### $C_V = \\lim\\limits_{s \\to 0}s\\cdot \\frac{17,4}{s(s+0,8)}$\n",
    "\n",
    "### $C_V = \\lim\\limits_{s \\to 0}\\cdot \\frac{17,4}{s+0,8}$\n",
    "\n",
    "## $C_V = \\frac{17,4}{0.8}\\to 21,75$\n",
    "\n",
    "## $e_{ss} = \\frac{A}{21,75}\\to 0,046$"
   ]
  },
  {
   "cell_type": "markdown",
   "id": "105da5b5",
   "metadata": {},
   "source": [
    "#### Constante de Parábola\n",
    "\n",
    "### $C_a = \\lim\\limits_{s \\to 0}s^{2}\\cdot G_{ma}(s)$\n",
    "\n",
    "### $C_a = \\lim\\limits_{s \\to 0}s^{2}\\cdot \\frac{17,4}{s(s+0,8)}\\to 0$\n",
    "\n",
    "## $e_{ss} = \\frac{A}{C_a}\\to \\infty$"
   ]
  },
  {
   "cell_type": "markdown",
   "id": "61824bda",
   "metadata": {},
   "source": [
    "## Sistema do tipo 0\n",
    "\n",
    "### $C_P = c \\to e_{ss}(\\infty)= \\frac{A}{1+C_P}$\n",
    "\n",
    "### $C_V = 0\\to e_{ss}(\\infty) = \\infty$\n",
    "\n",
    "### $C_a = 0\\to e_{ss}(\\infty) = \\infty$"
   ]
  },
  {
   "cell_type": "markdown",
   "id": "af2f5b25",
   "metadata": {},
   "source": [
    "## Sistema do tipo 1\n",
    "\n",
    "### $$C_P = \\infty \\to e_{ss}(\\infty)= 0 $$\n",
    "\n",
    "### $$C_V = c \\to e_{ss}(\\infty) = \\frac{A}{C_V}$$\n",
    "\n",
    "### $$C_a = 0\\to e_{ss}(\\infty) = \\infty$$"
   ]
  },
  {
   "cell_type": "markdown",
   "id": "04ecfc69",
   "metadata": {},
   "source": [
    "## Sistema do tipo 2\n",
    "\n",
    "### $C_P = \\infty \\to e_{ss}(\\infty)= \\infty \\to $ $sistema$ $instável$\n",
    "\n",
    "### $C_V = \\infty \\to e_{ss}(\\infty) = 0$\n",
    "\n",
    "### $C_a = c \\to e_{ss}(\\infty) = \\frac{A}{C_a}$"
   ]
  },
  {
   "cell_type": "markdown",
   "id": "2907257a",
   "metadata": {},
   "source": [
    "### Generalizando\n",
    "\n",
    "## $G_{ma}(s) = \\frac{(s+z_1(s+z_2)...}{s^{n}(s+p_1)(s+p_2)....}$\n",
    "\n",
    "Quanto maior os polos na origem "
   ]
  },
  {
   "cell_type": "markdown",
   "id": "96382c29",
   "metadata": {},
   "source": [
    "### Ex.3"
   ]
  },
  {
   "cell_type": "markdown",
   "id": "f1dd84e3",
   "metadata": {},
   "source": [
    "![malha_fechada](img/malhaf_19.png)"
   ]
  },
  {
   "cell_type": "markdown",
   "id": "3a190441",
   "metadata": {},
   "source": [
    "A) determine o valor do ganho K para que o erro em regime permanente seja de, no\n",
    "máximo, 10 % para uma entrada do tipo degrau unitário;"
   ]
  },
  {
   "cell_type": "markdown",
   "id": "dbab5885",
   "metadata": {},
   "source": [
    "### $G_{ma}(s) = E(s)\\cdot U(s)$\n",
    "\n",
    "### $G_{ma}(s) = K \\cdot \\frac{s+2}{s^{2}+7s+12}$\n",
    "\n",
    "### $C_P = \\lim\\limits_{s \\to 0} K \\cdot \\frac{s+2}{s^{2}+7s+12}$\n",
    "\n",
    "### $C_P = \\lim\\limits_{s \\to 0} K \\cdot \\frac{2}{12}\\to 0.17K$\n",
    "\n"
   ]
  },
  {
   "cell_type": "markdown",
   "id": "258d011d",
   "metadata": {},
   "source": [
    "#### Erro max 10%\n",
    "\n",
    "\n",
    "### $e_{ss} = \\frac{1}{1+0,17K}$\n",
    "\n",
    "### $0.1 = \\frac{1}{1+0,17K}$\n",
    "\n",
    "### $(1+0,17K)\\cdot 0.1 = 1$\n",
    "\n",
    "### $0,1+0,017K = 1$\n",
    "\n",
    "### $0,017K = 0,9$\n",
    "\n",
    "### $K = \\frac{0,9}{0,017}$\n",
    "\n",
    "### $K = 54$"
   ]
  },
  {
   "cell_type": "markdown",
   "id": "f57d699c",
   "metadata": {},
   "source": [
    "Obs:\n",
    "\n",
    "Se aumentar o valor de $K$, ou seja, $K\\geq 54$ o erro será menor que os $10%$, entretanto, o gasto de energia será maior."
   ]
  },
  {
   "cell_type": "markdown",
   "id": "135a8823",
   "metadata": {},
   "source": [
    "B) qual alteração no controlador promoveria um erro nulo em regime permanente?"
   ]
  },
  {
   "cell_type": "markdown",
   "id": "45ea9143",
   "metadata": {},
   "source": [
    "#### Aumentar os polos na origem, ou seja, ter um $s$ dividindo o ganho (integrar o erro), por exemplo, e aplicar um degrau:\n",
    "\n",
    "### $E(s) = \\frac{K}{s}$"
   ]
  },
  {
   "cell_type": "markdown",
   "id": "cea25717",
   "metadata": {},
   "source": [
    "### Ex.4"
   ]
  },
  {
   "cell_type": "markdown",
   "id": "0ab574e6",
   "metadata": {},
   "source": [
    "![malha_fechada](img/malhaf_19_2.png)"
   ]
  },
  {
   "cell_type": "markdown",
   "id": "4b865869",
   "metadata": {},
   "source": [
    "A) determine o valor do ganho K para que o erro em regime permanente seja de, no\n",
    "máximo, 2 % para uma entrada do tipo rampa unitária;"
   ]
  },
  {
   "cell_type": "markdown",
   "id": "687a939a",
   "metadata": {},
   "source": [
    "### $G_{ma}(s) = E(s)\\cdot U(s)$\n",
    "\n",
    "### $G_{ma}(s) = K \\cdot \\frac{s+2}{s(s^{2}+7s+12)}$\n",
    "\n",
    "### $C_V = \\lim\\limits_{s \\to 0}s\\cdot K \\cdot \\frac{s+2}{s(s^{2}+7s+12)}\\to 0,17K$\n",
    "\n"
   ]
  },
  {
   "cell_type": "markdown",
   "id": "8a644295",
   "metadata": {},
   "source": [
    "#### Erro max 10%\n",
    "\n",
    "\n",
    "### $e_{ss} = \\frac{1}{0,17K}$\n",
    "\n",
    "### $0,02 = \\frac{1}{0,17K}$\n",
    "\n",
    "### $ 0,17K\\cdot 0,02  = 1$\n",
    "\n",
    "#### $0.0034K = 1$\n",
    "\n",
    "### $K = \\frac{1}{0.0034}$\n",
    "\n",
    "#### $K = 300$"
   ]
  },
  {
   "cell_type": "markdown",
   "id": "3728f50c",
   "metadata": {},
   "source": [
    "B) qual alteração no controlador promoveria um erro nulo em regime permanente?"
   ]
  },
  {
   "cell_type": "markdown",
   "id": "314e9d76",
   "metadata": {},
   "source": [
    "#### Integra o K"
   ]
  },
  {
   "cell_type": "markdown",
   "id": "1715e8f2",
   "metadata": {},
   "source": [
    "## Aula 20"
   ]
  },
  {
   "cell_type": "markdown",
   "id": "0d9d3528",
   "metadata": {},
   "source": [
    "### Projeto de Controle I\n",
    "\n",
    "Etapas:\n",
    "\n",
    "- Modelo da planta:\n",
    "\n",
    "## $$G(s) = \\frac{s+2}{s(s+1)} \\to modelo$$"
   ]
  },
  {
   "cell_type": "markdown",
   "id": "81a47c20",
   "metadata": {},
   "source": [
    "- Em Malha Fechada deve ter:\n",
    "  Erro em regime nulo\n",
    "##  $$M_p \\leq 2%$$ \n",
    "##  $$T_s \\leq 10s$$"
   ]
  },
  {
   "cell_type": "markdown",
   "id": "29f57c87",
   "metadata": {},
   "source": [
    "## $$G_{mf}(s) = \\frac{5(s+1)}{s^2 3s+4} $$"
   ]
  },
  {
   "cell_type": "markdown",
   "id": "e8b7263e",
   "metadata": {},
   "source": [
    "## $$G_{mf}(s) = \\frac{C(s)\\cdot G(s)}{1+C(s)\\cdot G(s)}$$"
   ]
  },
  {
   "cell_type": "markdown",
   "id": "7c3d2fbe",
   "metadata": {},
   "source": [
    "### PID $\\to C(s)$"
   ]
  },
  {
   "cell_type": "markdown",
   "id": "e0ba5b6e",
   "metadata": {},
   "source": [
    "                                        Equação do sinal de controle do PID"
   ]
  },
  {
   "cell_type": "markdown",
   "id": "1797d41a",
   "metadata": {},
   "source": [
    "## $$ u(t) = K_p e(t)+ K_i \\int e(t)dt+ K_d\\cdot \\frac{de(t)}{dt}$$"
   ]
  },
  {
   "cell_type": "markdown",
   "id": "01046191",
   "metadata": {},
   "source": [
    "                                           No domínio da frequência"
   ]
  },
  {
   "cell_type": "markdown",
   "id": "db4e2461",
   "metadata": {},
   "source": [
    "## $$U(s) = K_p\\cdot E(s)+ K_i \\frac{1}{s} \\cdot E(s) + sK_d\\cdot E(s)  $$"
   ]
  },
  {
   "cell_type": "markdown",
   "id": "d01bc798",
   "metadata": {},
   "source": [
    "## $$C(s) = \\frac{U(s)}{E(s)} \\to K_P + \\frac{K_i}{s} + K_ds$$"
   ]
  },
  {
   "cell_type": "markdown",
   "id": "94a18cfa",
   "metadata": {},
   "source": [
    "                                            Função de Transferência "
   ]
  },
  {
   "cell_type": "markdown",
   "id": "82b1a4fa",
   "metadata": {},
   "source": [
    "## $$C(s) = \\frac{K_Ps + K_i + K_ds^2}{s}$$"
   ]
  },
  {
   "cell_type": "markdown",
   "id": "b09adf83",
   "metadata": {},
   "source": [
    "![](img/PID_2.png)"
   ]
  },
  {
   "cell_type": "markdown",
   "id": "131ae71c",
   "metadata": {},
   "source": [
    "## Ex.1"
   ]
  },
  {
   "cell_type": "markdown",
   "id": "f4920ada",
   "metadata": {},
   "source": [
    "![](img/PID_ex1.png)"
   ]
  },
  {
   "cell_type": "markdown",
   "id": "562335c6",
   "metadata": {},
   "source": [
    "### $$\\frac{\\Theta_m(s)}{E_a(s)} = \\frac{17.4}{s(s+ 0.8)} $$"
   ]
  },
  {
   "cell_type": "markdown",
   "id": "4e7058d1",
   "metadata": {},
   "source": [
    "### $$\\frac{\\Omega_m(s)}{E_a(s)} = \\frac{17.4}{s+0.8} $$"
   ]
  },
  {
   "cell_type": "markdown",
   "id": "423f2a57",
   "metadata": {},
   "source": [
    "a) Projete um controlador de velocidade angula para que a resposta ao degrau tenha erro nulo, sobressinal máximo de 2% e instante de pico $\\leq 1s$"
   ]
  },
  {
   "cell_type": "markdown",
   "id": "085fb206",
   "metadata": {},
   "source": [
    "## $$C_p = \\lim\\limits_{s \\to 0}s G_{mf}(s)$$"
   ]
  },
  {
   "cell_type": "markdown",
   "id": "fc673414",
   "metadata": {},
   "source": [
    "## $$C_p = \\lim\\limits_{s \\to 0}s \\frac{17.4}{s+0.8}$$"
   ]
  },
  {
   "cell_type": "markdown",
   "id": "c95d0e65",
   "metadata": {},
   "source": [
    "## $$C_p = \\lim\\limits_{s \\to 0}\\frac{1}{s} \\frac{17.4s}{s+0.8}$$"
   ]
  },
  {
   "cell_type": "markdown",
   "id": "d40beed9",
   "metadata": {},
   "source": [
    "## $$C_p = \\lim\\limits_{s \\to 0} \\frac{17.4s}{s(s+0.8)}$$"
   ]
  },
  {
   "cell_type": "markdown",
   "id": "d4571f12",
   "metadata": {},
   "source": [
    "## $$C_p = \\infty$$"
   ]
  },
  {
   "cell_type": "markdown",
   "id": "d930eea5",
   "metadata": {},
   "source": [
    "### $$C(s): PI \\to K_p+\\frac{K_i}{s} = \\frac{sK_p + k_i}{s} $$"
   ]
  },
  {
   "cell_type": "markdown",
   "id": "0b6b6af3",
   "metadata": {},
   "source": [
    "### $$ Mp \\leq 0.02 \\to \\zeta$$"
   ]
  },
  {
   "cell_type": "markdown",
   "id": "dc3fb708",
   "metadata": {},
   "source": [
    "###  $$ T_p = \\frac{4}{\\zeta\\cdot\\omega_n}$$"
   ]
  },
  {
   "cell_type": "markdown",
   "id": "0a2343e2",
   "metadata": {},
   "source": [
    "### $$\\zeta = \\sqrt{\\frac{ln^2(M_p)}{\\pi^2 +ln^2(M_p)}}\\to 0.7797$$"
   ]
  },
  {
   "cell_type": "markdown",
   "id": "edb3b44a",
   "metadata": {},
   "source": [
    "### $$\\omega_n = \\frac{\\pi}{1\\cdot\\sqrt{1-0.7797}}\\to 5.0173$$"
   ]
  },
  {
   "cell_type": "markdown",
   "id": "03749611",
   "metadata": {},
   "source": [
    "### $$G_{mf} = \\frac{C(s)\\cdot G(s)}{1+C(s)\\cdot G(s)}  $$"
   ]
  },
  {
   "cell_type": "markdown",
   "id": "de194efa",
   "metadata": {},
   "source": [
    "### $$G_{mf} = \\frac{\\frac{sK_p + K_i}{s} \\frac{17.4}{s+0.8}}{1+\\frac{sK_p + K_i}{s}\\frac{17.4}{s+0.8}} $$"
   ]
  },
  {
   "cell_type": "markdown",
   "id": "abaf1c4e",
   "metadata": {},
   "source": [
    "### $$G_{mf} = \\frac{17.4sK_p + 17.4K_i}{s^2 + 0.8s+ 17.4sK_p + 17.4K_i} $$"
   ]
  },
  {
   "cell_type": "markdown",
   "id": "5b258e60",
   "metadata": {},
   "source": [
    "### $$G_{mf} = \\frac{17.4sK_p + 17.4K_i}{s^2 + s(0.8+ 17.4K_p) + 17.4K_i} $$"
   ]
  },
  {
   "cell_type": "markdown",
   "id": "c652b949",
   "metadata": {},
   "source": [
    "### $$\\omega_n^2 = 17.4 K_i  $$"
   ]
  },
  {
   "cell_type": "markdown",
   "id": "70758102",
   "metadata": {},
   "source": [
    "###  $$  \\frac{5.0173^2}{17.4} = K_i \\to 1.4468 $$"
   ]
  },
  {
   "cell_type": "markdown",
   "id": "6cf84f5a",
   "metadata": {},
   "source": [
    "### $$2\\zeta\\omega_n = 0.8+17.4K_p  $$"
   ]
  },
  {
   "cell_type": "markdown",
   "id": "137c6ede",
   "metadata": {},
   "source": [
    "### $$2\\cdot0.7797 \\cdot5.0173 = 0.8+17.4K_p  $$"
   ]
  },
  {
   "cell_type": "markdown",
   "id": "4e21ce54",
   "metadata": {},
   "source": [
    "### $$\\frac{2\\cdot0.7797 \\cdot5.0173 -0.8}{17.4}= K_p  $$"
   ]
  },
  {
   "cell_type": "markdown",
   "id": "018e5620",
   "metadata": {},
   "source": [
    "### $$K_p = 0.4037 $$"
   ]
  },
  {
   "cell_type": "markdown",
   "id": "cb865577",
   "metadata": {},
   "source": [
    "Por conta do zero encontrado $17.4sK_p $ na função de malha fechada abaixo, os parametros desejados para o controle não estão 100% certos."
   ]
  },
  {
   "cell_type": "markdown",
   "id": "1c6cdb1a",
   "metadata": {},
   "source": [
    "- Modelo de frequência Natural:\n",
    "\n",
    "### $$G_{mf} = \\frac{\\omega_n^2}{s^2+2\\zeta\\omega_n + \\omega_n^2}$$"
   ]
  },
  {
   "cell_type": "markdown",
   "id": "36158c4b",
   "metadata": {},
   "source": [
    "### $$G_{mf} = \\frac{17.4sK_p + 17.4K_i}{s^2 + s(0.8+ 17.4K_p) + 17.4K_i} $$"
   ]
  },
  {
   "cell_type": "markdown",
   "id": "48444dd8",
   "metadata": {},
   "source": [
    "b) Projete um controlador de posição ângular para que a resposta ao degrau tenha erro nulo, sobressinal máximo de 2% e instante de pico $\\leq 0.4$"
   ]
  },
  {
   "cell_type": "markdown",
   "id": "715ffe1e",
   "metadata": {},
   "source": [
    "### $$e_{ss} = 0 $$\n",
    "\n",
    "### $$M_p = 0.02 $$\n",
    "\n",
    "### $$ T_p \\leq 0.4s $$"
   ]
  },
  {
   "cell_type": "markdown",
   "id": "ef8f99be",
   "metadata": {},
   "source": [
    "### $$U(s) = \\frac{17.4}{s(s+0.8)} $$"
   ]
  },
  {
   "cell_type": "markdown",
   "id": "d65d1a61",
   "metadata": {},
   "source": [
    "A planta ja é do tipo 1, portanto o erro será Nulo!\n",
    "\n",
    "### $$\\zeta = \\sqrt{\\frac{ln^2(0.02)}{\\pi^2 +ln^2(0.02)}}$$"
   ]
  },
  {
   "cell_type": "markdown",
   "id": "0bd12d04",
   "metadata": {},
   "source": [
    "### $$\\zeta = 0.7797$$"
   ]
  },
  {
   "cell_type": "markdown",
   "id": "bcfd8113",
   "metadata": {},
   "source": [
    "### $$\\omega_n = \\frac{\\pi}{0.4\\cdot\\sqrt{1-0.7797}}\\to 12.55 rad/s$$"
   ]
  },
  {
   "cell_type": "markdown",
   "id": "2d2b37c2",
   "metadata": {},
   "source": [
    "### $$\\frac{\\Theta_m(s)}{\\Theta_{ref}(s)} = \\frac{17.4K_p}{s^2 + 0.8s + 17.4K_p} $$"
   ]
  },
  {
   "cell_type": "markdown",
   "id": "fb3e66bd",
   "metadata": {},
   "source": [
    "Dessa forma:\n",
    "\n",
    "### $$\\zeta = \\frac{0.8}{2\\omega_n} $$\n",
    "\n",
    "Precisa-se aplicar um P-D, e possui uma função em malha fechada desta forma:\n",
    "\n",
    "### $$G_{mf}(s) = \\frac{Y(s)}{R(s)} = \\frac{K_p\\cdot G(s)}{1 + G(s)(K_p+K_ds)} $$\n",
    "\n",
    "Assim:"
   ]
  },
  {
   "cell_type": "markdown",
   "id": "143fdb5b",
   "metadata": {},
   "source": [
    "### $$G_{mf}(s) = \\frac{\\frac{17.4K_p}{s(s+0.8)}}{1+\\frac{17.4[K_p+K_ds]}{s(s+0.8)}}$$"
   ]
  },
  {
   "cell_type": "markdown",
   "id": "de80faed",
   "metadata": {},
   "source": [
    "### $$G_{mf}(s) = \\frac{17.4K_p}{s(s+0.8)+17.4K_p+ 17.4K_ds}$$\n",
    "\n",
    "### $$G_{mf}(s) = \\frac{17.4K_p}{s^2 +s(0.8 + 17.4K_d) + 17.4K_p}$$"
   ]
  },
  {
   "cell_type": "markdown",
   "id": "8763a776",
   "metadata": {},
   "source": [
    "### $$K_p = \\frac{\\omega_n^2}{17.4}$$\n",
    "\n",
    "### $$K_p = \\frac{12.54^2}{17.4} \\to 9.0422$$"
   ]
  },
  {
   "cell_type": "markdown",
   "id": "af40979a",
   "metadata": {},
   "source": [
    "### $$2\\cdot\\zeta\\cdot\\omega_n = 0.8+17.4K_d $$\n",
    "\n",
    "### $$\\frac{2\\cdot0.78\\cdot12.54 - 0.8}{17.4} = K_d \\to K_d = 1.0782$$"
   ]
  },
  {
   "cell_type": "markdown",
   "id": "c8cbbec0",
   "metadata": {},
   "source": [
    "Dessa forma, $G_{ms}(s)$ será:\n",
    "\n",
    "### $$G_{mf}(s) = \\frac{157.33}{s^2 +19.7s + 157.33}$$"
   ]
  },
  {
   "cell_type": "markdown",
   "id": "52bad839",
   "metadata": {},
   "source": []
  },
  {
   "cell_type": "markdown",
   "id": "8adf3e39",
   "metadata": {},
   "source": []
  },
  {
   "cell_type": "markdown",
   "id": "1f8803e8",
   "metadata": {},
   "source": []
  },
  {
   "cell_type": "markdown",
   "id": "118e46fe",
   "metadata": {},
   "source": []
  },
  {
   "cell_type": "markdown",
   "id": "373cf85e",
   "metadata": {},
   "source": []
  },
  {
   "cell_type": "markdown",
   "id": "c499b9a5",
   "metadata": {},
   "source": []
  },
  {
   "cell_type": "markdown",
   "id": "81f5aa47",
   "metadata": {},
   "source": []
  },
  {
   "cell_type": "markdown",
   "id": "4b0f12c0",
   "metadata": {},
   "source": []
  },
  {
   "cell_type": "markdown",
   "id": "2bb71b93",
   "metadata": {},
   "source": [
    "Se for um (P-D), teremos a dedução para malha fechada desta forma:\n",
    "\n",
    "### $$U(s) = K_p\\cdot E(s) - K_d\\cdot Y(s) $$ \n",
    "\n",
    "### $$Y(s) = G(s)U(s) $$\n",
    "\n",
    "### $$E(s) = R(s) - Y(s)$$"
   ]
  },
  {
   "cell_type": "markdown",
   "id": "ec878c34",
   "metadata": {},
   "source": [
    "Eq 3 em 1\n",
    "\n",
    "### $$U(s) = K_p[R(s) - Y(s)]-K_dsY(s) $$ \n",
    "\n",
    "### $$U(s) = K_p\\cdot R(s) -Y(s)[K_p+K_ds] $$"
   ]
  },
  {
   "cell_type": "markdown",
   "id": "688456b3",
   "metadata": {},
   "source": [
    "4 em 2:\n",
    "\n",
    "### $$Y(s) = G(s)\\big(K_p \\cdot R(s) - Y(s)[K_p+K_ds]\\big)$$\n",
    "\n",
    "### $$Y(s) = K_p\\cdot G(s) \\cdot R(s) - Y(s)\\cdot G(s) [K_p+K_ds]$$\n",
    "\n",
    "### $$Y(s)(1+G(s)[k_p+K_ds]) = K_p\\cdot G(s) \\cdot R(s) $$\n",
    "\n",
    "### $$G_{mf}(s) = \\frac{Y(s)}{R(s)} = \\frac{K_p\\cdot G(s)}{1 + G(s)(K_p+K_ds)} $$"
   ]
  },
  {
   "cell_type": "markdown",
   "id": "01d1c69d",
   "metadata": {},
   "source": [
    "## Final Class"
   ]
  },
  {
   "cell_type": "markdown",
   "id": "863ac492",
   "metadata": {},
   "source": []
  },
  {
   "cell_type": "markdown",
   "id": "0bf687e1",
   "metadata": {},
   "source": []
  },
  {
   "cell_type": "markdown",
   "id": "7f93d90f",
   "metadata": {},
   "source": []
  },
  {
   "cell_type": "markdown",
   "id": "28e4fe35",
   "metadata": {},
   "source": []
  },
  {
   "cell_type": "markdown",
   "id": "4610360a",
   "metadata": {},
   "source": [
    "## Consulta:"
   ]
  },
  {
   "cell_type": "markdown",
   "id": "48ec9014",
   "metadata": {},
   "source": [
    "$$r(t) \\to referência-de-controle$$"
   ]
  },
  {
   "cell_type": "markdown",
   "id": "8c5bd4ac",
   "metadata": {},
   "source": [
    "### $$\\zeta = \\sqrt{\\frac{ln^2(M_p)}{\\pi^2 +ln^2(M_p)}}$$"
   ]
  },
  {
   "cell_type": "markdown",
   "id": "eebc200f",
   "metadata": {},
   "source": [
    "### $$\\omega_n = \\frac{\\pi}{1\\cdot\\sqrt{1-\\zeta^2}}$$"
   ]
  },
  {
   "cell_type": "markdown",
   "id": "48be8871",
   "metadata": {},
   "source": [
    "## $$T_s = \\frac{4}{\\zeta\\omega_n} $$"
   ]
  },
  {
   "cell_type": "code",
   "execution_count": 7,
   "id": "96ef3b67",
   "metadata": {},
   "outputs": [
    {
     "name": "stdout",
     "output_type": "stream",
     "text": [
      "0.9108691389387997\n"
     ]
    }
   ],
   "source": [
    "Mp = 0.02\n",
    "zeta = math.sqrt(math.log(Mp)**2/(math.pi+math.log(Mp)**2))\n",
    "print(zeta)"
   ]
  },
  {
   "cell_type": "markdown",
   "id": "0ec83bfb",
   "metadata": {},
   "source": []
  },
  {
   "cell_type": "markdown",
   "id": "e2d5eb2e",
   "metadata": {},
   "source": []
  },
  {
   "cell_type": "markdown",
   "id": "0c0bc045",
   "metadata": {},
   "source": [
    "## Sistema do tipo 0\n",
    "\n",
    "### $$C_P = c \\to e_{ss}(\\infty)= \\frac{A}{1+C_P}$$\n",
    "\n",
    "### $$C_V = 0\\to e_{ss}(\\infty) = \\infty$$\n",
    "\n",
    "### $$C_a = 0\\to e_{ss}(\\infty) = \\infty$$"
   ]
  },
  {
   "cell_type": "markdown",
   "id": "39e12e9b",
   "metadata": {},
   "source": [
    "## Sistema do tipo 1\n",
    "\n",
    "### $$C_P = \\infty \\to e_{ss}(\\infty)= 0 $$\n",
    "\n",
    "### $$C_V = c \\to e_{ss}(\\infty) = \\frac{A}{C_V}$$\n",
    "\n",
    "### $$C_a = 0\\to e_{ss}(\\infty) = \\infty$$"
   ]
  },
  {
   "cell_type": "markdown",
   "id": "04b830a7",
   "metadata": {},
   "source": [
    "## Sistema do tipo 2\n",
    "\n",
    "### $$C_P = \\infty \\to e_{ss}(\\infty)= \\infty $$\n",
    "\n",
    "### $$C_V = \\infty \\to e_{ss}(\\infty) = 0$$\n",
    "\n",
    "### $$C_a = c \\to e_{ss}(\\infty) = \\frac{A}{C_a}$$"
   ]
  },
  {
   "cell_type": "markdown",
   "id": "494ef1dd",
   "metadata": {},
   "source": []
  },
  {
   "cell_type": "markdown",
   "id": "bd8b3e04",
   "metadata": {},
   "source": [
    "### Calculadora"
   ]
  },
  {
   "cell_type": "code",
   "execution_count": null,
   "id": "6f3d5066",
   "metadata": {
    "scrolled": false
   },
   "outputs": [],
   "source": []
  },
  {
   "cell_type": "code",
   "execution_count": 8,
   "id": "bf936ab5",
   "metadata": {},
   "outputs": [
    {
     "data": {
      "text/plain": [
       "0.7448035391268718"
      ]
     },
     "execution_count": 8,
     "metadata": {},
     "output_type": "execute_result"
    }
   ],
   "source": [
    "ze = (math.log( 0.03,math.e)**2/(math.log( 0.03,math.e)**2+math.pi**2))**(1/2)\n",
    "ze"
   ]
  },
  {
   "cell_type": "markdown",
   "id": "7f52ece5",
   "metadata": {},
   "source": [
    "[LaTex Formúlas](https://en.wikibooks.org/wiki/LaTeX/Mathematics)"
   ]
  },
  {
   "cell_type": "code",
   "execution_count": null,
   "id": "f4cd3cfd",
   "metadata": {},
   "outputs": [],
   "source": []
  },
  {
   "cell_type": "code",
   "execution_count": 9,
   "id": "5fcf4c77",
   "metadata": {
    "scrolled": true
   },
   "outputs": [
    {
     "name": "stdout",
     "output_type": "stream",
     "text": [
      "13.969886148117537\n"
     ]
    }
   ],
   "source": [
    "w = math.pi/(0.1*math.sqrt(1-ze**2))\n",
    "print(((w**2)*0.15)/23.8)"
   ]
  },
  {
   "cell_type": "code",
   "execution_count": 10,
   "id": "265005c8",
   "metadata": {},
   "outputs": [
    {
     "data": {
      "text/plain": [
       "47.08030659240283"
      ]
     },
     "execution_count": 10,
     "metadata": {},
     "output_type": "execute_result"
    }
   ],
   "source": [
    "w"
   ]
  },
  {
   "cell_type": "code",
   "execution_count": 11,
   "id": "afe65975",
   "metadata": {},
   "outputs": [
    {
     "data": {
      "text/plain": [
       "19.64038037714276"
      ]
     },
     "execution_count": 11,
     "metadata": {},
     "output_type": "execute_result"
    }
   ],
   "source": [
    "(2*w*ze-0.015)/(23.8*0.15)"
   ]
  },
  {
   "cell_type": "code",
   "execution_count": 12,
   "id": "f67cc6ea",
   "metadata": {},
   "outputs": [
    {
     "name": "stdout",
     "output_type": "stream",
     "text": [
      "susi\n"
     ]
    }
   ],
   "source": [
    "print(\"susi\")"
   ]
  },
  {
   "cell_type": "code",
   "execution_count": null,
   "id": "0daf0b1f",
   "metadata": {},
   "outputs": [],
   "source": []
  }
 ],
 "metadata": {
  "kernelspec": {
   "display_name": "Python 3 (ipykernel)",
   "language": "python",
   "name": "python3"
  },
  "language_info": {
   "codemirror_mode": {
    "name": "ipython",
    "version": 3
   },
   "file_extension": ".py",
   "mimetype": "text/x-python",
   "name": "python",
   "nbconvert_exporter": "python",
   "pygments_lexer": "ipython3",
   "version": "3.8.10"
  }
 },
 "nbformat": 4,
 "nbformat_minor": 5
}
