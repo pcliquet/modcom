{
 "cells": [
  {
   "cell_type": "markdown",
   "id": "b83b9ef8",
   "metadata": {},
   "source": [
    "# Modcom"
   ]
  },
  {
   "cell_type": "markdown",
   "id": "c79def6e",
   "metadata": {},
   "source": [
    "Polos:\n",
    "\n",
    "$$p_{1,2} = -\\zeta\\omega_n \\pm j\\omega_n\\sqrt{1-\\zeta^2}$$\n",
    "\n",
    "$$p_{1,2}= -\\sigma_d \\pm \\omega_d$$"
   ]
  },
  {
   "cell_type": "markdown",
   "id": "f3b79e06",
   "metadata": {},
   "source": [
    "Frequência de oscilação armotecida:\n",
    "\n",
    "$$\\omega_d = \\omega_n\\sqrt{1-\\zeta^2} $$\n",
    "\n",
    "Frequência de armotecimento exponelcial:\n",
    "\n",
    "$$\\sigma_d = \\zeta\\omega_n  $$\n",
    "\n",
    "Fator de amortecimento:\n",
    "\n",
    "$$\\zeta = cos(\\rho)$$\n",
    "\n",
    "$\\zeta = 0 \\to$ não amortecido\n",
    "\n",
    "$0<\\zeta<1 \\to $ subamortecido\n",
    "\n",
    "$\\zeta = 1 \\to$ criticamente amortecido\n",
    "\n",
    "$\\zeta > 1 \\to$ super amortecido\n",
    "\n",
    "Instante de pico:\n",
    "\n",
    "$$T_p = \\frac{\\pi}{\\omega_n\\sqrt{1-\\zeta^2}}\\to \\frac{\\pi}{\\omega_d}$$\n",
    "\n",
    "Sobressinal máximo:\n",
    "\n",
    "$$M_p = e^{-\\frac{\\zeta\\pi}{\\sqrt{1-\\zeta^2}}} $$\n",
    "\n",
    "Tempo de acomodação:\n",
    "\n",
    "$$T_s = \\frac{4}{\\zeta\\omega_n}\\to \\frac{4}{\\sigma_d}$$\n",
    "\n"
   ]
  },
  {
   "cell_type": "markdown",
   "id": "6d981a5f",
   "metadata": {},
   "source": []
  },
  {
   "cell_type": "markdown",
   "id": "f5e60eb8",
   "metadata": {},
   "source": []
  }
 ],
 "metadata": {
  "kernelspec": {
   "display_name": "Python 3 (ipykernel)",
   "language": "python",
   "name": "python3"
  },
  "language_info": {
   "codemirror_mode": {
    "name": "ipython",
    "version": 3
   },
   "file_extension": ".py",
   "mimetype": "text/x-python",
   "name": "python",
   "nbconvert_exporter": "python",
   "pygments_lexer": "ipython3",
   "version": "3.8.10"
  }
 },
 "nbformat": 4,
 "nbformat_minor": 5
}
